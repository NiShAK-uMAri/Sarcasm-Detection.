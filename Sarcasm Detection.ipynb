{
 "cells": [
  {
   "cell_type": "markdown",
   "id": "0bef1125",
   "metadata": {},
   "source": [
    "# SARCASM DETECTION"
   ]
  },
  {
   "cell_type": "markdown",
   "id": "2a6e0766",
   "metadata": {},
   "source": [
    "#### Importing all the libraries"
   ]
  },
  {
   "cell_type": "code",
   "execution_count": 5,
   "id": "730a9c8a",
   "metadata": {},
   "outputs": [],
   "source": [
    "import pandas as pd\n",
    "import numpy as np\n",
    "from sklearn.feature_extraction.text import CountVectorizer\n",
    "from sklearn.model_selection import train_test_split\n",
    "from sklearn.naive_bayes import BernoulliNB"
   ]
  },
  {
   "cell_type": "markdown",
   "id": "6e72e783",
   "metadata": {},
   "source": [
    "#### Reading the Dataset"
   ]
  },
  {
   "cell_type": "code",
   "execution_count": 26,
   "id": "37b53e22",
   "metadata": {},
   "outputs": [
    {
     "name": "stdout",
     "output_type": "stream",
     "text": [
      "                                               headlines         target\n",
      "0      CNN Triumphs (At Least in Most Demographic Cat...  Non Sarcastic\n",
      "1      ‘You Did The Best You Could,’ Says Iron Man Ac...      Sarcastic\n",
      "2      New Emails Reveal Warm Relationship Between Ka...  Non Sarcastic\n",
      "3      Donald Trump Jr. Gets Slammed Over Racist Birt...  Non Sarcastic\n",
      "4          God Urges Rick Perry Not To Run For President      Sarcastic\n",
      "...                                                  ...            ...\n",
      "12501                     Lapdogs of the Corporate Press  Non Sarcastic\n",
      "12502  Annoying Coworker Precedes All Nouns With 'Qui...      Sarcastic\n",
      "12503  Report: North Dakota Leads Nation In Parking A...      Sarcastic\n",
      "12504  The Election Night Drinking Game: HyperVocal E...  Non Sarcastic\n",
      "12505                      Conjoined Twin Hogging Kidney      Sarcastic\n",
      "\n",
      "[12506 rows x 2 columns]\n"
     ]
    }
   ],
   "source": [
    "df = pd.read_csv(\"Data.csv\")\n",
    "print(df)"
   ]
  },
  {
   "cell_type": "markdown",
   "id": "edd46d60",
   "metadata": {},
   "source": [
    "#### Changing the Target columns values to Non Sarcastic as \"0\" and Sarcastic as \"1\""
   ]
  },
  {
   "cell_type": "code",
   "execution_count": 27,
   "id": "048e3437",
   "metadata": {},
   "outputs": [
    {
     "name": "stdout",
     "output_type": "stream",
     "text": [
      "                                               headlines  target\n",
      "0      CNN Triumphs (At Least in Most Demographic Cat...       0\n",
      "1      ‘You Did The Best You Could,’ Says Iron Man Ac...       1\n",
      "2      New Emails Reveal Warm Relationship Between Ka...       0\n",
      "3      Donald Trump Jr. Gets Slammed Over Racist Birt...       0\n",
      "4          God Urges Rick Perry Not To Run For President       1\n",
      "...                                                  ...     ...\n",
      "12501                     Lapdogs of the Corporate Press       0\n",
      "12502  Annoying Coworker Precedes All Nouns With 'Qui...       1\n",
      "12503  Report: North Dakota Leads Nation In Parking A...       1\n",
      "12504  The Election Night Drinking Game: HyperVocal E...       0\n",
      "12505                      Conjoined Twin Hogging Kidney       1\n",
      "\n",
      "[12506 rows x 2 columns]\n"
     ]
    }
   ],
   "source": [
    "df[\"target\"] = df[\"target\"].map({\"Non Sarcastic\":0, \"Sarcastic\":1})\n",
    "print(df)"
   ]
  },
  {
   "cell_type": "code",
   "execution_count": 28,
   "id": "a05dd656",
   "metadata": {},
   "outputs": [
    {
     "data": {
      "text/html": [
       "<div>\n",
       "<style scoped>\n",
       "    .dataframe tbody tr th:only-of-type {\n",
       "        vertical-align: middle;\n",
       "    }\n",
       "\n",
       "    .dataframe tbody tr th {\n",
       "        vertical-align: top;\n",
       "    }\n",
       "\n",
       "    .dataframe thead th {\n",
       "        text-align: right;\n",
       "    }\n",
       "</style>\n",
       "<table border=\"1\" class=\"dataframe\">\n",
       "  <thead>\n",
       "    <tr style=\"text-align: right;\">\n",
       "      <th></th>\n",
       "      <th>headlines</th>\n",
       "      <th>target</th>\n",
       "    </tr>\n",
       "  </thead>\n",
       "  <tbody>\n",
       "    <tr>\n",
       "      <th>0</th>\n",
       "      <td>CNN Triumphs (At Least in Most Demographic Cat...</td>\n",
       "      <td>0</td>\n",
       "    </tr>\n",
       "    <tr>\n",
       "      <th>1</th>\n",
       "      <td>‘You Did The Best You Could,’ Says Iron Man Ac...</td>\n",
       "      <td>1</td>\n",
       "    </tr>\n",
       "    <tr>\n",
       "      <th>2</th>\n",
       "      <td>New Emails Reveal Warm Relationship Between Ka...</td>\n",
       "      <td>0</td>\n",
       "    </tr>\n",
       "    <tr>\n",
       "      <th>3</th>\n",
       "      <td>Donald Trump Jr. Gets Slammed Over Racist Birt...</td>\n",
       "      <td>0</td>\n",
       "    </tr>\n",
       "    <tr>\n",
       "      <th>4</th>\n",
       "      <td>God Urges Rick Perry Not To Run For President</td>\n",
       "      <td>1</td>\n",
       "    </tr>\n",
       "    <tr>\n",
       "      <th>...</th>\n",
       "      <td>...</td>\n",
       "      <td>...</td>\n",
       "    </tr>\n",
       "    <tr>\n",
       "      <th>95</th>\n",
       "      <td>WATCH: Anderson Cooper On His Favorite Interviews</td>\n",
       "      <td>0</td>\n",
       "    </tr>\n",
       "    <tr>\n",
       "      <th>96</th>\n",
       "      <td>FBI Arrests 'Airhead' Mother-Son Team Who Raid...</td>\n",
       "      <td>0</td>\n",
       "    </tr>\n",
       "    <tr>\n",
       "      <th>97</th>\n",
       "      <td>State Department E-Mail: Watch Obama On CNN!</td>\n",
       "      <td>0</td>\n",
       "    </tr>\n",
       "    <tr>\n",
       "      <th>98</th>\n",
       "      <td>Eve Announces She's Pregnant With First Child</td>\n",
       "      <td>0</td>\n",
       "    </tr>\n",
       "    <tr>\n",
       "      <th>99</th>\n",
       "      <td>Late Night On The VP Debate</td>\n",
       "      <td>0</td>\n",
       "    </tr>\n",
       "  </tbody>\n",
       "</table>\n",
       "<p>100 rows × 2 columns</p>\n",
       "</div>"
      ],
      "text/plain": [
       "                                            headlines  target\n",
       "0   CNN Triumphs (At Least in Most Demographic Cat...       0\n",
       "1   ‘You Did The Best You Could,’ Says Iron Man Ac...       1\n",
       "2   New Emails Reveal Warm Relationship Between Ka...       0\n",
       "3   Donald Trump Jr. Gets Slammed Over Racist Birt...       0\n",
       "4       God Urges Rick Perry Not To Run For President       1\n",
       "..                                                ...     ...\n",
       "95  WATCH: Anderson Cooper On His Favorite Interviews       0\n",
       "96  FBI Arrests 'Airhead' Mother-Son Team Who Raid...       0\n",
       "97       State Department E-Mail: Watch Obama On CNN!       0\n",
       "98      Eve Announces She's Pregnant With First Child       0\n",
       "99                        Late Night On The VP Debate       0\n",
       "\n",
       "[100 rows x 2 columns]"
      ]
     },
     "execution_count": 28,
     "metadata": {},
     "output_type": "execute_result"
    }
   ],
   "source": [
    "df.head(100)"
   ]
  },
  {
   "cell_type": "markdown",
   "id": "9c68d7af",
   "metadata": {},
   "source": [
    "#### Extraction dependent and independent variable"
   ]
  },
  {
   "cell_type": "code",
   "execution_count": 29,
   "id": "faa4c8a2",
   "metadata": {},
   "outputs": [],
   "source": [
    "df = df[[\"headlines\", \"target\"]]\n",
    "x = np.array(df[\"headlines\"])\n",
    "y = np.array(df[\"target\"])"
   ]
  },
  {
   "cell_type": "code",
   "execution_count": null,
   "id": "4e4354b0",
   "metadata": {},
   "outputs": [],
   "source": [
    "#### split the data into traning set and test set"
   ]
  },
  {
   "cell_type": "code",
   "execution_count": null,
   "id": "ec2beaab",
   "metadata": {},
   "outputs": [],
   "source": [
    "cv = CountVectorizer()\n",
    "X = cv.fit_transform(x) # Fit the Data\n",
    "X_train, X_test, y_train, y_test = train_test_split(X, y, test_size=0.20, random_state=42)"
   ]
  },
  {
   "cell_type": "markdown",
   "id": "4fe4cb2d",
   "metadata": {},
   "source": [
    "#### Now I will be using the Bernoulli Naive Bayes algorithm to train a model for the task of sarcasm detection"
   ]
  },
  {
   "cell_type": "code",
   "execution_count": 30,
   "id": "2eb9e956",
   "metadata": {},
   "outputs": [
    {
     "name": "stdout",
     "output_type": "stream",
     "text": [
      "0.8924860111910472\n"
     ]
    }
   ],
   "source": [
    "model = BernoulliNB()\n",
    "model.fit(X_train, y_train)\n",
    "print(model.score(X_test, y_test))"
   ]
  },
  {
   "cell_type": "code",
   "execution_count": 37,
   "id": "39763806",
   "metadata": {},
   "outputs": [
    {
     "name": "stdout",
     "output_type": "stream",
     "text": [
      "Enter a Text: Find your patience before I lose mine\n",
      "[1]\n"
     ]
    }
   ],
   "source": [
    "user = input(\"Enter a Text: \")\n",
    "data = cv.transform([user]).toarray()\n",
    "output = model.predict(data)\n",
    "print(output)"
   ]
  },
  {
   "cell_type": "code",
   "execution_count": null,
   "id": "f810a045",
   "metadata": {},
   "outputs": [],
   "source": []
  }
 ],
 "metadata": {
  "kernelspec": {
   "display_name": "Python 3 (ipykernel)",
   "language": "python",
   "name": "python3"
  },
  "language_info": {
   "codemirror_mode": {
    "name": "ipython",
    "version": 3
   },
   "file_extension": ".py",
   "mimetype": "text/x-python",
   "name": "python",
   "nbconvert_exporter": "python",
   "pygments_lexer": "ipython3",
   "version": "3.9.7"
  }
 },
 "nbformat": 4,
 "nbformat_minor": 5
}
